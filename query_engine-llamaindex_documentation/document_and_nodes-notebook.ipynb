{
 "cells": [
  {
   "cell_type": "markdown",
   "source": [
    "## LlamaIndex Bottoms-Up Development - Documents and Nodes\n"
   ],
   "metadata": {
    "collapsed": false
   },
   "id": "cc0d85c271f52730"
  },
  {
   "cell_type": "code",
   "outputs": [],
   "source": [
    "import dotenv\n",
    "import openai\n",
    "import os\n",
    "\n",
    "\"\"\"\n",
    "Setup\n",
    "\"\"\"\n",
    "dotenv.load_dotenv('../.env')\n",
    "OPENAI_API_KEY = os.environ.get('OPENAI_API_KEY')\n",
    "\n",
    "openai.api_key = OPENAI_API_KEY"
   ],
   "metadata": {
    "collapsed": false,
    "ExecuteTime": {
     "end_time": "2024-02-27T10:07:14.587751Z",
     "start_time": "2024-02-27T10:07:14.584568Z"
    }
   },
   "id": "45ae9de5d53e7e2a",
   "execution_count": 4
  },
  {
   "cell_type": "code",
   "outputs": [],
   "source": [
    "from llama_index.core import SimpleDirectoryReader\n",
    "from custom.markdown_docs_reader import MarkdownDocsReader\n",
    "\n",
    "\n",
    "def load_markdown_docs(filepath):\n",
    "    \"\"\"Load Markdown docs from a directory, excluding all other file types.\"\"\"\n",
    "    loader = SimpleDirectoryReader(\n",
    "        input_dir=filepath,\n",
    "        exclude=[\"*.rst\", \"*.ipynb\", \"*.py\", \"*.bat\", \"*.txt\", \"*.png\", \"*.jpg\", \"*.jpeg\", \"*.csv\", \"*.html\", \"*.js\", \"*.css\", \"*.pdf\", \"*.json\"],\n",
    "        file_extractor={\".md\": MarkdownDocsReader()},\n",
    "        recursive=True\n",
    "    )\n",
    "    return loader.load_data()"
   ],
   "metadata": {
    "collapsed": false,
    "ExecuteTime": {
     "end_time": "2024-02-27T10:09:27.670751Z",
     "start_time": "2024-02-27T10:09:27.669373Z"
    }
   },
   "id": "d38d4325faef978e",
   "execution_count": 6
  },
  {
   "cell_type": "code",
   "outputs": [],
   "source": [
    "# load our documents from each folder.\n",
    "\n",
    "getting_started_docs = load_markdown_docs(\"data/docs/getting_started\")\n",
    "community_docs = load_markdown_docs(\"data/docs/community\")\n",
    "data_docs = load_markdown_docs(\"data/docs/core_modules/data_modules\")\n",
    "agent_docs = load_markdown_docs(\"data/docs/core_modules/agent_modules\")\n",
    "model_docs = load_markdown_docs(\"data/docs/core_modules/model_modules\")\n",
    "query_docs = load_markdown_docs(\"data/docs/core_modules/query_modules\")\n",
    "supporting_docs = load_markdown_docs(\"data/docs/core_modules/supporting_modules\")\n",
    "tutorials_docs = load_markdown_docs(\"data/docs/end_to_end_tutorials\")\n",
    "contributing_docs = load_markdown_docs(\"data/docs/development\")"
   ],
   "metadata": {
    "collapsed": false,
    "ExecuteTime": {
     "end_time": "2024-02-27T10:12:05.449784Z",
     "start_time": "2024-02-27T10:12:05.371981Z"
    }
   },
   "id": "2249ec22aea7a3ba",
   "execution_count": 10
  },
  {
   "cell_type": "code",
   "outputs": [],
   "source": [
    "from llama_index.core.schema import MetadataMode"
   ],
   "metadata": {
    "collapsed": false,
    "ExecuteTime": {
     "end_time": "2024-02-27T10:12:50.070129Z",
     "start_time": "2024-02-27T10:12:50.061690Z"
    }
   },
   "id": "5aa8ad85cecc9412",
   "execution_count": 11
  },
  {
   "cell_type": "code",
   "outputs": [
    {
     "name": "stdout",
     "output_type": "stream",
     "text": [
      "File Name: data/docs/core_modules/agent_modules/agents/root.md\n",
      "Content Type: text\n",
      "Header Path: Data Agents/Concept/Tool Abstractions\n",
      "Links: \n",
      "file_path: data/docs/core_modules/agent_modules/agents/root.md\n",
      "file_name: root.md\n",
      "file_type: None\n",
      "file_size: 2340\n",
      "creation_date: 2024-02-27\n",
      "last_modified_date: 2023-09-12\n",
      "last_accessed_date: 2024-02-27\n",
      "\n",
      "You can learn more about our Tool abstractions in our Tools section.\n"
     ]
    }
   ],
   "source": [
    "print(agent_docs[5].get_content(metadata_mode=MetadataMode.ALL))"
   ],
   "metadata": {
    "collapsed": false,
    "ExecuteTime": {
     "end_time": "2024-02-27T10:17:26.277141Z",
     "start_time": "2024-02-27T10:17:26.273431Z"
    }
   },
   "id": "9961b46770b03319",
   "execution_count": 14
  },
  {
   "cell_type": "code",
   "outputs": [
    {
     "name": "stdout",
     "output_type": "stream",
     "text": [
      "{'File Name': 'data/docs/core_modules/agent_modules/agents/modules.md', 'Content Type': 'text', 'Header Path': 'Module Guides', 'Links': '', 'file_path': 'data/docs/core_modules/agent_modules/agents/modules.md', 'file_name': 'modules.md', 'file_type': None, 'file_size': 619, 'creation_date': '2024-02-27', 'last_modified_date': '2023-09-12', 'last_accessed_date': '2024-02-27'}\n"
     ]
    }
   ],
   "source": [
    "print(agent_docs[0].metadata)"
   ],
   "metadata": {
    "collapsed": false,
    "ExecuteTime": {
     "end_time": "2024-02-27T10:18:45.677375Z",
     "start_time": "2024-02-27T10:18:45.674561Z"
    }
   },
   "id": "55257e0b0ecb7efe",
   "execution_count": 15
  },
  {
   "cell_type": "code",
   "outputs": [],
   "source": [
    "text_template = \"Content Metadata:\\n{metadata_str}\\n\\nContent:\\n{content}\"\n",
    "\n",
    "metadata_template = \"{key}: {value},\"\n",
    "metadata_seperator= \" \"\n",
    "\n",
    "for doc in agent_docs:\n",
    "    doc.text_template = text_template\n",
    "    doc.metadata_template = metadata_template\n",
    "    doc.metadata_seperator = metadata_seperator"
   ],
   "metadata": {
    "collapsed": false,
    "ExecuteTime": {
     "end_time": "2024-02-27T10:26:33.968146Z",
     "start_time": "2024-02-27T10:26:33.964868Z"
    }
   },
   "id": "5f9e1dd15b047d98",
   "execution_count": 26
  },
  {
   "cell_type": "code",
   "outputs": [
    {
     "name": "stdout",
     "output_type": "stream",
     "text": [
      "Content Metadata:\n",
      "File Name: data/docs/core_modules/agent_modules/agents/modules.md, Content Type: text, Header Path: Module Guides, Links: , file_path: data/docs/core_modules/agent_modules/agents/modules.md, file_name: modules.md, file_type: None, file_size: 619, creation_date: 2024-02-27, last_modified_date: 2023-09-12, last_accessed_date: 2024-02-27,\n",
      "\n",
      "Content:\n",
      "These guide provide an overview of how to use our agent classes.\n",
      "\n",
      "For more detailed guides on how to use specific tools, check out our tools module guides.\n"
     ]
    }
   ],
   "source": [
    "print(agent_docs[0].get_content(metadata_mode=MetadataMode.ALL))\n"
   ],
   "metadata": {
    "collapsed": false,
    "ExecuteTime": {
     "end_time": "2024-02-27T10:26:34.936750Z",
     "start_time": "2024-02-27T10:26:34.931568Z"
    }
   },
   "id": "1a252b4570393c3c",
   "execution_count": 27
  },
  {
   "cell_type": "code",
   "outputs": [
    {
     "name": "stdout",
     "output_type": "stream",
     "text": [
      "Content Metadata:\n",
      "File Name: data/docs/core_modules/agent_modules/agents/modules.md, Content Type: text, Header Path: Module Guides, Links: , file_path: data/docs/core_modules/agent_modules/agents/modules.md, file_name: modules.md, file_type: None, file_size: 619, creation_date: 2024-02-27, last_modified_date: 2023-09-12, last_accessed_date: 2024-02-27,\n",
      "\n",
      "Content:\n",
      "These guide provide an overview of how to use our agent classes.\n",
      "\n",
      "For more detailed guides on how to use specific tools, check out our tools module guides.\n"
     ]
    }
   ],
   "source": [
    "# Hide the File Name from the LLM\n",
    "agent_docs[0].excluded_llm_metadata_keys = [\"File Name\"]\n",
    "print(agent_docs[0].get_content(metadata_mode=MetadataMode.ALL))\n"
   ],
   "metadata": {
    "collapsed": false,
    "ExecuteTime": {
     "end_time": "2024-02-27T10:28:58.565629Z",
     "start_time": "2024-02-27T10:28:58.534081Z"
    }
   },
   "id": "11f63a4aad1b5f88",
   "execution_count": 32
  },
  {
   "cell_type": "code",
   "outputs": [
    {
     "name": "stdout",
     "output_type": "stream",
     "text": [
      "Content Metadata:\n",
      "Content Type: text, Header Path: Module Guides, Links: , file_path: data/docs/core_modules/agent_modules/agents/modules.md, file_name: modules.md, file_type: None, file_size: 619, creation_date: 2024-02-27, last_modified_date: 2023-09-12, last_accessed_date: 2024-02-27,\n",
      "\n",
      "Content:\n",
      "These guide provide an overview of how to use our agent classes.\n",
      "\n",
      "For more detailed guides on how to use specific tools, check out our tools module guides.\n"
     ]
    }
   ],
   "source": [
    "# agent_docs[0].excluded_embed_metadata_keys = [\"File Name\"]\n",
    "print(agent_docs[0].get_content(metadata_mode=MetadataMode.EMBED))\n"
   ],
   "metadata": {
    "collapsed": false,
    "ExecuteTime": {
     "end_time": "2024-02-27T10:29:04.128773Z",
     "start_time": "2024-02-27T10:29:04.122986Z"
    }
   },
   "id": "9be2c20ed0d68c2b",
   "execution_count": 33
  },
  {
   "cell_type": "code",
   "outputs": [],
   "source": [],
   "metadata": {
    "collapsed": false
   },
   "id": "1b59f4badaf87659"
  }
 ],
 "metadata": {
  "kernelspec": {
   "display_name": "Python 3",
   "language": "python",
   "name": "python3"
  },
  "language_info": {
   "codemirror_mode": {
    "name": "ipython",
    "version": 2
   },
   "file_extension": ".py",
   "mimetype": "text/x-python",
   "name": "python",
   "nbconvert_exporter": "python",
   "pygments_lexer": "ipython2",
   "version": "2.7.6"
  }
 },
 "nbformat": 4,
 "nbformat_minor": 5
}
